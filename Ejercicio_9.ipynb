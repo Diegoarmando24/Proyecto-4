{
  "nbformat": 4,
  "nbformat_minor": 0,
  "metadata": {
    "colab": {
      "provenance": [],
      "authorship_tag": "ABX9TyMYBEe/AIFjyMrVrkzRKgFF",
      "include_colab_link": true
    },
    "kernelspec": {
      "name": "python3",
      "display_name": "Python 3"
    },
    "language_info": {
      "name": "python"
    }
  },
  "cells": [
    {
      "cell_type": "markdown",
      "metadata": {
        "id": "view-in-github",
        "colab_type": "text"
      },
      "source": [
        "<a href=\"https://colab.research.google.com/github/Diegoarmando24/Proyecto-4/blob/main/Ejercicio_9.ipynb\" target=\"_parent\"><img src=\"https://colab.research.google.com/assets/colab-badge.svg\" alt=\"Open In Colab\"/></a>"
      ]
    },
    {
      "cell_type": "markdown",
      "source": [
        "9. Usar Newton para hallar la solución de las siguientes funciones con una tolerancia de $10^{-5}$\n",
        "\n",
        "*   $f(x) = e^x +2^{-x} + 2cos(x) -6 = 0$ para $1 ≤ x ≤ 2.$\n",
        "*   $f(x) = 2x cos(2x) - (x-2)^2 = 0$ para $2 ≤ x ≤ 3$ y $3 ≤ x ≤ 4$\n",
        "*   $f(x) = e^x -3x^2 = 0$ para $ 0 ≤ x ≤ 1$ y $3 ≤ x ≤ 5$.\n"
      ],
      "metadata": {
        "id": "vGEKkoJK8EBq"
      }
    },
    {
      "cell_type": "code",
      "source": [
        "from sympy import *\n",
        "import matplotlib.pyplot as plt\n",
        "from IPython import display\n",
        "from time import sleep"
      ],
      "metadata": {
        "id": "SBPgImnF8z26"
      },
      "execution_count": 6,
      "outputs": []
    },
    {
      "cell_type": "code",
      "source": [
        "#Newton\n",
        "\n",
        "def Newton(x0,f,derivada,tol):\n",
        "  f = lambdify(x,f)\n",
        "  derivada = lambdify(x,derivada)\n",
        "  # Vector de x's.\n",
        "  m = []\n",
        "  k = 0\n",
        "  # Primeras dos iteraciones\n",
        "  m.append(x0)\n",
        "  # Evaluamos f en x0.\n",
        "  f0 = f(x0)\n",
        "  # Evaluamos la derivada de f en x0.\n",
        "  df0 = derivada(x0)\n",
        "  m.append(m[0] - f0/df0)\n",
        "\n",
        "  while abs(m[k+1]-m[k]) > tol:\n",
        "    k = k+1\n",
        "    # Evaluamos f en xk.\n",
        "    fk = f(m[k])\n",
        "    # Evaluamos df en xk.\n",
        "    dfk = derivada(m[k])\n",
        "    m.append(m[k] - fk/dfk)\n",
        "\n",
        "  return m[-1]"
      ],
      "metadata": {
        "id": "RUjvpJek8JTh"
      },
      "execution_count": 7,
      "outputs": []
    },
    {
      "cell_type": "code",
      "execution_count": 8,
      "metadata": {
        "colab": {
          "base_uri": "https://localhost:8080/"
        },
        "id": "RD84SpRo8DL5",
        "outputId": "f637710c-b505-4c2b-abbe-9eaa4048bee7"
      },
      "outputs": [
        {
          "output_type": "stream",
          "name": "stdout",
          "text": [
            "La raíz de f1 con x0 = 2 es: 1.8293836019338594\n",
            "La raíz de f2 con x0 = 3 es: 2.3706869176622645\n",
            "La raíz de f2 con x0 = 4 es: 3.7221127731017893\n",
            "La raíz de f3 con x0 = 1 es: 0.9100075724887091\n",
            "La raíz de f3 con x0 = 5 es: 3.7330790286356734\n"
          ]
        }
      ],
      "source": [
        "from sympy import symbols, sin, cos, evalf, lambdify\n",
        "x = symbols('x')\n",
        "\n",
        "f1 = exp(x) + 2**(-x) + 2*cos(x) - 6\n",
        "df1 = exp(x) - ln(2)*2**(-x) -2* sin(x)\n",
        "\n",
        "f2 = 2*x*cos(2*x) - (x-2)**2\n",
        "df2 = 2*cos(2*x) - 4*x*sin(2*x) -2*(x-2)\n",
        "\n",
        "f3 = exp(x) - 3*x**2\n",
        "df3 = exp(x) - 6*x\n",
        "\n",
        "\n",
        "raiz1 = Newton(2,f1,df1,10**-5)\n",
        "raiz2 = Newton(3,f2,df2,10**-5)\n",
        "raiz2_2 = Newton(4,f2,df2,10**-5)\n",
        "raiz3 = Newton(1,f3,df3,10**-5)\n",
        "raiz3_2 = Newton(5,f3,df3,10**-5)\n",
        "\n",
        "print(\"La raíz de f1 con x0 = 2 es:\", raiz1)\n",
        "print(\"La raíz de f2 con x0 = 3 es:\", raiz2)\n",
        "print(\"La raíz de f2 con x0 = 4 es:\", raiz2_2)\n",
        "print(\"La raíz de f3 con x0 = 1 es:\", raiz3)\n",
        "print(\"La raíz de f3 con x0 = 5 es:\", raiz3_2)"
      ]
    }
  ]
}