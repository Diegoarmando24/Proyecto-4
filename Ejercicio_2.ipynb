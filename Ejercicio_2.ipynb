{
  "nbformat": 4,
  "nbformat_minor": 0,
  "metadata": {
    "colab": {
      "provenance": [],
      "authorship_tag": "ABX9TyMyfnSEVX1DeKzSm8n2NGpm",
      "include_colab_link": true
    },
    "kernelspec": {
      "name": "python3",
      "display_name": "Python 3"
    },
    "language_info": {
      "name": "python"
    }
  },
  "cells": [
    {
      "cell_type": "markdown",
      "metadata": {
        "id": "view-in-github",
        "colab_type": "text"
      },
      "source": [
        "<a href=\"https://colab.research.google.com/github/Diegoarmando24/Proyecto-4/blob/main/Ejercicio_2.ipynb\" target=\"_parent\"><img src=\"https://colab.research.google.com/assets/colab-badge.svg\" alt=\"Open In Colab\"/></a>"
      ]
    },
    {
      "cell_type": "markdown",
      "source": [
        "2. Usar el Método de Bisección (programado) para encontrar la solución de las siguientes funciones con una tolerancia de 10−5\n",
        ".\n",
        "\n",
        "1.   $f(x) = x − 2^{-x}$, para $0 ≤ x ≤ 1$.\n",
        "2.   $f(x) = 2x cos(2x) − (x + 1)^2$, para $−3 ≤ x ≤ −2$ y $−1 ≤ x ≤ 0$."
      ],
      "metadata": {
        "id": "ETzVHwzB6sny"
      }
    },
    {
      "cell_type": "code",
      "source": [
        "#Bisección\n",
        "def biseccion(a,b,f,tol):\n",
        "  f = lambdify(x,f)\n",
        "  # Vector de puntos medios.\n",
        "  m = []\n",
        "\n",
        "  if f(a) * f(b) > 0:\n",
        "        return \"Error: f(a) y f(b) no tienen signos opuestos, no se puede garantizar una raíz ni realizar el método\"\n",
        "\n",
        "  while b-a > tol:\n",
        "    m_aux = a + (b-a)/2\n",
        "    m.append(m_aux)\n",
        "    if f(a)*f(m_aux) < 0:     #f(a)*f(m) < 0\n",
        "      b = m_aux\n",
        "    else:\n",
        "      a = m_aux\n",
        "\n",
        "  return m[-1] # vector-Lista (puntos medios)\n"
      ],
      "metadata": {
        "id": "Ti38NGAJ66OA"
      },
      "execution_count": 2,
      "outputs": []
    },
    {
      "cell_type": "code",
      "source": [
        "from sympy import symbols, sin, cos, evalf, lambdify\n",
        "x = symbols('x')\n",
        "\n",
        "# Funciónes a) y b)\n",
        "f1 = x - 2**(-x)\n",
        "f2 = 2 * x * cos(2 * x) - (x + 1)**2\n",
        "\n",
        "tol = 1e-5\n",
        "\n",
        "# Resolviendo\n",
        "raiz_a = biseccion(0, 1, f1, tol)\n",
        "raiz_b1 = biseccion(-3, -2, f2, tol)\n",
        "raiz_b2 = biseccion(-1, 0, f2, tol)\n",
        "\n",
        "# Mostrar resultados\n",
        "print(\"Raíz de f1 en [0,1]:\", raiz_a)\n",
        "print(\"Raíz de f2 en [-3,-2]:\", raiz_b1)\n",
        "print(\"Raíz de f2 en [-1,0]:\", raiz_b2)"
      ],
      "metadata": {
        "colab": {
          "base_uri": "https://localhost:8080/"
        },
        "id": "sHM160LA6tWn",
        "outputId": "45685820-1f51-4a21-a590-984e3ed13536"
      },
      "execution_count": 3,
      "outputs": [
        {
          "output_type": "stream",
          "name": "stdout",
          "text": [
            "Raíz de f1 en [0,1]: 0.6411819458007812\n",
            "Raíz de f2 en [-3,-2]: -2.1913070678710938\n",
            "Raíz de f2 en [-1,0]: -0.7981643676757812\n"
          ]
        }
      ]
    }
  ]
}