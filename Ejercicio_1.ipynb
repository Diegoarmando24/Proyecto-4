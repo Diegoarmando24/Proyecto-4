{
  "nbformat": 4,
  "nbformat_minor": 0,
  "metadata": {
    "colab": {
      "provenance": [],
      "authorship_tag": "ABX9TyOSN3J1nfaf5jMZL+fSfVxY",
      "include_colab_link": true
    },
    "kernelspec": {
      "name": "python3",
      "display_name": "Python 3"
    },
    "language_info": {
      "name": "python"
    }
  },
  "cells": [
    {
      "cell_type": "markdown",
      "metadata": {
        "id": "view-in-github",
        "colab_type": "text"
      },
      "source": [
        "<a href=\"https://colab.research.google.com/github/Diegoarmando24/Proyecto-4/blob/main/Ejercicio_1.ipynb\" target=\"_parent\"><img src=\"https://colab.research.google.com/assets/colab-badge.svg\" alt=\"Open In Colab\"/></a>"
      ]
    },
    {
      "cell_type": "markdown",
      "source": [
        "1. Programar los métodos de:\n",
        "\n",
        "*   Bisección\n",
        "*   Secante\n",
        "*   Newton\n",
        "\n",
        "Para cada caso, pedir los datos entrada correspondientes: función punto(s) inicial(es), tolerancia,\n",
        "etc. Devolver la raíz si la encuentra, si no desplegar el mensaje donde se diga qué ocurrió. Entregar\n",
        "los códigos de cada método."
      ],
      "metadata": {
        "id": "loCXXOyq41gS"
      }
    },
    {
      "cell_type": "code",
      "source": [
        "from sympy import *\n",
        "import matplotlib.pyplot as plt\n",
        "from IPython import display\n",
        "from time import sleep"
      ],
      "metadata": {
        "id": "JsL1Sf0y42Ba"
      },
      "execution_count": 1,
      "outputs": []
    },
    {
      "cell_type": "code",
      "source": [
        "#Bisección\n",
        "def biseccion(a,b,f,tol):\n",
        "  f = lambdify(x,f)\n",
        "  # Vector de puntos medios.\n",
        "  m = []\n",
        "\n",
        "  if f(a) * f(b) > 0:\n",
        "        return \"Error: f(a) y f(b) no tienen signos opuestos, no se puede garantizar una raíz ni realizar el método\"\n",
        "\n",
        "  while b-a > tol:\n",
        "    m_aux = a + (b-a)/2\n",
        "    m.append(m_aux)\n",
        "    if f(a)*f(m_aux) < 0:     #f(a)*f(m) < 0\n",
        "      b = m_aux\n",
        "    else:\n",
        "      a = m_aux\n",
        "\n",
        "  return m[-1] # vector-Lista (puntos medios)"
      ],
      "metadata": {
        "id": "Ruc9nUBY45oI"
      },
      "execution_count": 2,
      "outputs": []
    },
    {
      "cell_type": "code",
      "source": [
        "#Secante\n",
        "def Secante(x0, x1,f,tol):\n",
        "  f = lambdify(x,f)\n",
        "  # Vector x's.\n",
        "  m = []\n",
        "  k = 0\n",
        "  # Primeras dos iteraciones\n",
        "  m.append(x0)\n",
        "  m.append(x1)\n",
        "  # Evaluamos f en x0 y x1.\n",
        "  f0 = f(x0)\n",
        "  f1 = f(x1)\n",
        "\n",
        "  #Segunda iteración(x2)\n",
        "  m.append(m[1] - (f1*(x1-x0)/(f1-f0)))\n",
        "\n",
        "  while abs(m[k+1]-m[k]) > tol:\n",
        "    # Evaluamos f en xk y xk-1.\n",
        "    fk = f(m[k])\n",
        "    fkant = f(m[k-1])\n",
        "    if fk - fkant == 0:\n",
        "      return m[-1]\n",
        "    else:\n",
        "      m.append(m[k] - (fk*(m[k]-m[k-1])/(fk-fkant)))\n",
        "      k = k+1\n",
        "\n",
        "  return m[-1]"
      ],
      "metadata": {
        "id": "H0S2JUHh478a"
      },
      "execution_count": 3,
      "outputs": []
    },
    {
      "cell_type": "code",
      "source": [
        "#Newton\n",
        "\n",
        "def Newton(x0,f,derivada,tol):\n",
        "  f = lambdify(x,f)\n",
        "  derivada = lambdify(x,derivada)\n",
        "  # Vector de x's.\n",
        "  m = []\n",
        "  k = 0\n",
        "  # Primeras dos iteraciones\n",
        "  m.append(x0)\n",
        "  # Evaluamos f en x0.\n",
        "  f0 = f(x0)\n",
        "  # Evaluamos la derivada de f en x0.\n",
        "  df0 = derivada(x0)\n",
        "  m.append(m[0] - f0/df0)\n",
        "\n",
        "  while abs(m[k+1]-m[k]) > tol:\n",
        "    k = k+1\n",
        "    # Evaluamos f en xk.\n",
        "    fk = f(m[k])\n",
        "    # Evaluamos df en xk.\n",
        "    dfk = derivada(m[k])\n",
        "    m.append(m[k] - fk/dfk)\n",
        "\n",
        "  return m[-1]"
      ],
      "metadata": {
        "id": "8Q0KDDcW5Cca"
      },
      "execution_count": 4,
      "outputs": []
    },
    {
      "cell_type": "code",
      "source": [
        "##Ejemplo\n",
        "x = symbols('x')\n",
        "a,b = -2,0.5\n",
        "f = x**2 - 4*sin(x)\n",
        "\n",
        "m = biseccion(a,b,f,10**-8)\n",
        "\n",
        "print(m)"
      ],
      "metadata": {
        "colab": {
          "base_uri": "https://localhost:8080/"
        },
        "id": "VJrniQ7V5FFi",
        "outputId": "ee66aa41-84b4-4c12-ff67-fd9689b00c42"
      },
      "execution_count": 5,
      "outputs": [
        {
          "output_type": "stream",
          "name": "stdout",
          "text": [
            "1.862645149230957e-09\n"
          ]
        }
      ]
    },
    {
      "cell_type": "code",
      "source": [
        "##Ejemplo\n",
        "df= 2*x - 4*cos(x)\n",
        "xl = Newton(-2.5,f,df,10**-8)\n",
        "\n",
        "print(xl)"
      ],
      "metadata": {
        "colab": {
          "base_uri": "https://localhost:8080/"
        },
        "id": "l8FkdKr35HtC",
        "outputId": "357aa6e8-3e2f-4f21-b376-45438f5ef71f"
      },
      "execution_count": 6,
      "outputs": [
        {
          "output_type": "stream",
          "name": "stdout",
          "text": [
            "1.9337537628270212\n"
          ]
        }
      ]
    }
  ]
}