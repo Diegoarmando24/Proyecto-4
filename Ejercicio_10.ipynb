{
  "nbformat": 4,
  "nbformat_minor": 0,
  "metadata": {
    "colab": {
      "provenance": [],
      "authorship_tag": "ABX9TyNyywOYq6w8sQNbvtRO/Tsm",
      "include_colab_link": true
    },
    "kernelspec": {
      "name": "python3",
      "display_name": "Python 3"
    },
    "language_info": {
      "name": "python"
    }
  },
  "cells": [
    {
      "cell_type": "markdown",
      "metadata": {
        "id": "view-in-github",
        "colab_type": "text"
      },
      "source": [
        "<a href=\"https://colab.research.google.com/github/Diegoarmando24/Proyecto-4/blob/main/Ejercicio_10.ipynb\" target=\"_parent\"><img src=\"https://colab.research.google.com/assets/colab-badge.svg\" alt=\"Open In Colab\"/></a>"
      ]
    },
    {
      "cell_type": "markdown",
      "source": [
        "10. Calcular las raíces del ejercicio 9 con el método de Secante."
      ],
      "metadata": {
        "id": "m6nRwYdu9FYY"
      }
    },
    {
      "cell_type": "code",
      "source": [
        "from sympy import *\n",
        "import matplotlib.pyplot as plt\n",
        "from IPython import display\n",
        "from time import sleep"
      ],
      "metadata": {
        "id": "wCV8koRU9OqX"
      },
      "execution_count": 1,
      "outputs": []
    },
    {
      "cell_type": "code",
      "source": [
        "#Secante\n",
        "def Secante(x0, x1,f,tol):\n",
        "  f = lambdify(x,f)\n",
        "  # Vector x's.\n",
        "  m = []\n",
        "  k = 0\n",
        "  # Primeras dos iteraciones\n",
        "  m.append(x0)\n",
        "  m.append(x1)\n",
        "  # Evaluamos f en x0 y x1.\n",
        "  f0 = f(x0)\n",
        "  f1 = f(x1)\n",
        "\n",
        "  #Segunda iteración(x2)\n",
        "  m.append(m[1] - (f1*(x1-x0)/(f1-f0)))\n",
        "\n",
        "  while abs(m[k+1]-m[k]) > tol:\n",
        "    # Evaluamos f en xk y xk-1.\n",
        "    fk = f(m[k])\n",
        "    fkant = f(m[k-1])\n",
        "    if fk - fkant == 0:\n",
        "      return m[-1]\n",
        "    else:\n",
        "      m.append(m[k] - (fk*(m[k]-m[k-1])/(fk-fkant)))\n",
        "      k = k+1\n",
        "\n",
        "  return m[-1]"
      ],
      "metadata": {
        "id": "Mebh6-lX9R7n"
      },
      "execution_count": 2,
      "outputs": []
    },
    {
      "cell_type": "code",
      "execution_count": 3,
      "metadata": {
        "colab": {
          "base_uri": "https://localhost:8080/"
        },
        "id": "J7FseLIN9Es_",
        "outputId": "f211376a-2482-432c-d2c3-78f7e40c4a18"
      },
      "outputs": [
        {
          "output_type": "stream",
          "name": "stdout",
          "text": [
            "La raíz de f1 con x0=1, x1=2 es: 1.8322984635189548\n",
            "La raíz de f2 con x0=2, x1=3 es: 2.370674115720369\n",
            "La raíz de f2 con x0=3, x1=4 es: 3.7319204612777854\n",
            "La raíz de f3 con x0=0, x1=1 es: 0.9106235388960858\n",
            "La raíz de f3 con x0=3, x1=4 es: 3.7455985025193854\n"
          ]
        }
      ],
      "source": [
        "from sympy import symbols, sin, cos, evalf, lambdify\n",
        "x = symbols('x')\n",
        "\n",
        "f1 = exp(x) + 2**(-x) + 2*cos(x) - 6\n",
        "df1 = exp(x) - ln(2)*2**(-x) -2* sin(x)\n",
        "\n",
        "f2 = 2*x*cos(2*x) - (x-2)**2\n",
        "df2 = 2*cos(2*x) - 4*x*sin(2*x) -2*(x-2)\n",
        "\n",
        "f3 = exp(x) - 3*x**2\n",
        "df3 = exp(x) - 6*x\n",
        "\n",
        "raiz1_sec = Secante(1, 2, f1, 10**-5)\n",
        "raiz2_sec = Secante(2, 3, f2, 10**-5)\n",
        "raiz2_2_sec = Secante(3, 4, f2, 10**-5)\n",
        "raiz3_sec = Secante(0, 1, f3, 10**-5)\n",
        "raiz3_2_sec = Secante(3, 4, f3, 10**-5)\n",
        "\n",
        "print(\"La raíz de f1 con x0=1, x1=2 es:\", raiz1_sec)\n",
        "print(\"La raíz de f2 con x0=2, x1=3 es:\", raiz2_sec)\n",
        "print(\"La raíz de f2 con x0=3, x1=4 es:\", raiz2_2_sec)\n",
        "print(\"La raíz de f3 con x0=0, x1=1 es:\", raiz3_sec)\n",
        "print(\"La raíz de f3 con x0=3, x1=4 es:\", raiz3_2_sec)\n"
      ]
    }
  ]
}