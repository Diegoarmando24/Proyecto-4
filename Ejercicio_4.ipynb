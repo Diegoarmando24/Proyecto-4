{
  "nbformat": 4,
  "nbformat_minor": 0,
  "metadata": {
    "colab": {
      "provenance": [],
      "authorship_tag": "ABX9TyNxFkZWnh9z4HKNtaBXN7jD",
      "include_colab_link": true
    },
    "kernelspec": {
      "name": "python3",
      "display_name": "Python 3"
    },
    "language_info": {
      "name": "python"
    }
  },
  "cells": [
    {
      "cell_type": "markdown",
      "metadata": {
        "id": "view-in-github",
        "colab_type": "text"
      },
      "source": [
        "<a href=\"https://colab.research.google.com/github/Diegoarmando24/Proyecto-4/blob/main/Ejercicio_4.ipynb\" target=\"_parent\"><img src=\"https://colab.research.google.com/assets/colab-badge.svg\" alt=\"Open In Colab\"/></a>"
      ]
    },
    {
      "cell_type": "markdown",
      "source": [
        "4. Hallar una aproximación a $\\sqrt{3}$ con una tolerancia de $10^{-4}$ usando el algoritmo de Bisección. Hint: considerar $f(x) = x^2 - 3$\n",
        "*   Implementar programa"
      ],
      "metadata": {
        "id": "jlT8QT957Pbk"
      }
    },
    {
      "cell_type": "code",
      "source": [
        "#Bisección\n",
        "def biseccion(a,b,f,tol):\n",
        "  f = lambdify(x,f)\n",
        "  # Vector de puntos medios.\n",
        "  m = []\n",
        "\n",
        "  if f(a) * f(b) > 0:\n",
        "        return \"Error: f(a) y f(b) no tienen signos opuestos, no se puede garantizar una raíz ni realizar el método\"\n",
        "\n",
        "  while b-a > tol:\n",
        "    m_aux = a + (b-a)/2\n",
        "    m.append(m_aux)\n",
        "    if f(a)*f(m_aux) < 0:     #f(a)*f(m) < 0\n",
        "      b = m_aux\n",
        "    else:\n",
        "      a = m_aux\n",
        "\n",
        "  return m[-1] # vector-Lista (puntos medios)"
      ],
      "metadata": {
        "id": "05renKDo7b0W"
      },
      "execution_count": 2,
      "outputs": []
    },
    {
      "cell_type": "code",
      "source": [
        "from sympy import symbols, sin, cos, evalf, lambdify\n",
        "x = symbols('x')\n",
        "\n",
        "f = x**2 - 3\n",
        "tol = 1e-4\n",
        "\n",
        "#Tomamos como intervalo [0.5,2.5]\n",
        "\n",
        "raiz = biseccion(0.5,2.5,f,tol)\n",
        "\n",
        "print(\"La raíz de f = x^2 - 3 y aproximación de √3 tomando el intervalo [0.5,2.5] es:\", raiz )"
      ],
      "metadata": {
        "colab": {
          "base_uri": "https://localhost:8080/"
        },
        "id": "NO6M80uu7Quu",
        "outputId": "efbd9e1b-ba38-479a-c621-9fe9461a1ca0"
      },
      "execution_count": 3,
      "outputs": [
        {
          "output_type": "stream",
          "name": "stdout",
          "text": [
            "La raíz de f = x^2 - 3 y aproximación de √3 tomando el intervalo [0.5,2.5] es: 1.73199462890625\n"
          ]
        }
      ]
    }
  ]
}